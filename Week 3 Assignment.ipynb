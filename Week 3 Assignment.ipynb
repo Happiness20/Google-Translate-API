{
 "cells": [
  {
   "cell_type": "markdown",
   "source": [
    "\r\n",
    "User Requirement (Manager)\r\n",
    "As a Data Scientist, you have been asked by your manager to build a system that helps the team to detect and translate complains made by the company’s French customers to English. And the system should also be able to translate to any language the team specifies.\r\n",
    "\r\n",
    "User Case Story (Customer)\r\n",
    "The system should welcome me as a user\r\n",
    "The system should ask me to submit complain\r\n",
    "The system should tell me when my when my complain is submitted\r\n",
    "User Case Story (Team)\r\n",
    "The system should list all the complain\r\n",
    "The system should ask me to pick a complain\r\n",
    "The system should be able to detect the language used in a complain text\r\n",
    "The system should be able to translate from one language to the other base on specification\r\n",
    "TIPS:\r\n",
    "Variables\r\n",
    "Functions\r\n",
    "Loops\r\n",
    "Conditionals\r\n",
    "Import JSON to load your response to a dictionary\r\n",
    "API: On the Google translate Rapidapi platform, leverage on the following:\r\n",
    "*POST translate\r\n",
    "\r\n",
    "*POST detect"
   ],
   "metadata": {}
  },
  {
   "cell_type": "code",
   "execution_count": 4,
   "source": [
    "from datetime import datetime"
   ],
   "outputs": [],
   "metadata": {}
  },
  {
   "cell_type": "code",
   "execution_count": null,
   "source": [
    "def welcome():\r\n",
    "    runtime = 1\r\n",
    "    YourName = input(\"Kindly enter your name: \")\r\n",
    "    print(\"Dear \",YourName, \"Welcome to our Demy's Tecnology,\") \r\n",
    "    while runtime:\r\n",
    "        checker = int(input(\"Enter 1 to sumbit a complaint, or 2 to quit: \"))\r\n",
    "        if checker == 1:\r\n",
    "            name = input(\"Please enter your name: \")\r\n",
    "            complaint = input(\"Please submit your complaint: \")\r\n",
    "            date = datetime.date(datetime.now())\r\n",
    "            print(\"Your complaints has been recorded at ,\", date,  \"we can get back to you soon!\")\r\n",
    "            print('==========================')\r\n",
    "            userComplaints[name] = {complaint}\r\n",
    "        elif checker == 2:\r\n",
    "            break\r\n",
    "        else:\r\n",
    "            print(\"Invalid value, Enter 1 to sumbit a complaint, or 2 to quit:\") \r\n"
   ],
   "outputs": [],
   "metadata": {}
  },
  {
   "cell_type": "code",
   "execution_count": null,
   "source": [
    "welcome()\r\n",
    "print(userComplaints)"
   ],
   "outputs": [],
   "metadata": {}
  },
  {
   "cell_type": "code",
   "execution_count": null,
   "source": [
    "name = input(\"Please enter your name: \")\r\n",
    "if name in userComplaints:\r\n",
    "    print(userComplaints[name])\r\n",
    "else: \r\n",
    "    print(\"This complaint is not in the system\")\r\n"
   ],
   "outputs": [],
   "metadata": {}
  },
  {
   "cell_type": "code",
   "execution_count": null,
   "source": [
    "import requests\r\n",
    "from urllib.parse import quote"
   ],
   "outputs": [],
   "metadata": {}
  },
  {
   "cell_type": "code",
   "execution_count": null,
   "source": [
    "def detectLangauge(text):\r\n",
    "    url = \"https://google-translate1.p.rapidapi.com/language/translate/v2/detect\"\r\n",
    "    payload = \"q=\" + quote(text)"
   ],
   "outputs": [],
   "metadata": {}
  },
  {
   "cell_type": "code",
   "execution_count": null,
   "source": [
    "headers = {\r\n",
    "    'content-type': \"application/x-www-form-urlencoded\",\r\n",
    "    'accept-encoding': \"application/gzip\",\r\n",
    "    'x-rapidapi-key': \"6464df7f3dmsh79109d96d292f30p1d2e4cjsn32767b241ca1\",\r\n",
    "    'x-rapidapi-host': \"google-translate1.p.rapidapi.com\"\r\n",
    "    }"
   ],
   "outputs": [],
   "metadata": {}
  },
  {
   "cell_type": "code",
   "execution_count": null,
   "source": [
    " response = requests.request(\"POST\", url, data=payload, headers=headers)\r\n",
    "    \r\n",
    "    return(response.text)"
   ],
   "outputs": [],
   "metadata": {}
  },
  {
   "cell_type": "code",
   "execution_count": null,
   "source": [
    "import requests\r\n",
    "from urllib.parse import quote"
   ],
   "outputs": [],
   "metadata": {}
  },
  {
   "cell_type": "code",
   "execution_count": null,
   "source": [
    "def translateComplaint(text, target_language):\r\n",
    "\r\n",
    "    source_language = detectLangauge(text)\r\n",
    "    url = \"https://google-translate1.p.rapidapi.com/language/translate/v2\"\r\n",
    "    payload = \"q=\" + quote(text) + \"&target=\" + target_language + \"&source=\" + source_language"
   ],
   "outputs": [],
   "metadata": {}
  },
  {
   "cell_type": "code",
   "execution_count": null,
   "source": [
    "headers = {\n",
    "    'content-type': \"application/x-www-form-urlencoded\",\n",
    "    'accept-encoding': \"application/gzip\",\n",
    "    'x-rapidapi-key': \"6464df7f3dmsh79109d96d292f30p1d2e4cjsn32767b241ca1\",\n",
    "    'x-rapidapi-host': \"google-translate1.p.rapidapi.com\"\n",
    "    }\n",
    "    response = requests.request(\"POST\", url, data=payload, headers=headers)\n",
    "\n",
    "    return response.text"
   ],
   "outputs": [],
   "metadata": {}
  },
  {
   "cell_type": "code",
   "execution_count": null,
   "source": [
    "name = input(\"Please enter your name:\")\n",
    "if name in userComplaints:\n",
    "    complain_string = list(userComplaints[name])[0]\n",
    "    translated_object = json.loads(translateComplaint(complain_string, \"en\"))\n",
    "    translation = translated_object[\"data\"][\"translations\"][0][\"translatedText\"]\n",
    "    print(translation)\n",
    "else:\n",
    "    print(\"This complaint is not in the system\")"
   ],
   "outputs": [],
   "metadata": {}
  },
  {
   "cell_type": "code",
   "execution_count": null,
   "source": [
    "import json"
   ],
   "outputs": [],
   "metadata": {}
  },
  {
   "cell_type": "code",
   "execution_count": null,
   "source": [
    "complaints_json = json.loads('{\"data\":{\"detections\":[[{\"language\":\"en\",\"isReliable\":false,\"confidence\":0.8180167078971863}]]}}')\n",
    "complaints_json[\"data\"][\"detections\"][0][0][\"language\"] "
   ],
   "outputs": [],
   "metadata": {}
  }
 ],
 "metadata": {
  "kernelspec": {
   "display_name": "Python 3",
   "language": "python",
   "name": "python3"
  },
  "language_info": {
   "codemirror_mode": {
    "name": "ipython",
    "version": 3
   },
   "file_extension": ".py",
   "mimetype": "text/x-python",
   "name": "python",
   "nbconvert_exporter": "python",
   "pygments_lexer": "ipython3",
   "version": "3.8.3"
  }
 },
 "nbformat": 4,
 "nbformat_minor": 4
}